{
 "cells": [
  {
   "cell_type": "markdown",
   "metadata": {
    "id": "5el_8SqFqVAT"
   },
   "source": [
    "\n",
    "In this notebook, You will do amazon review classification with BERT.[Download data from [this](https://www.kaggle.com/snap/amazon-fine-food-reviews/data) link]\n",
    "<pre> \n",
    "It contains 5 parts as below.  Detailed instrctions are given in the each cell. please read every comment we have written. \n",
    "    1. Preprocessing \n",
    "    2. Creating a BERT model from the Tensorflow HUB.\n",
    "    3. Tokenization\n",
    "    4. getting the pretrained embedding Vector for a given review from the BERT.\n",
    "    5. Using the embedding data apply NN and classify the reviews.\n",
    "    6. Creating a Data pipeline for BERT Model. \n",
    "\n",
    "<font size=5>instructions:</font>\n",
    "\n",
    "    1. Don't change any Grader Functions. Don't manipulate any Grader functions. \n",
    "    If you manipulate any, it will be considered as plagiarised. \n",
    "    \n",
    "    2. Please read the instructions on the code cells and markdown cells. We will explain what to write. \n",
    "    \n",
    "    3. please return outputs in the same format what we asked. Eg. Don't return List if we are asking for a numpy array.\n",
    "    \n",
    "    4. Please read the external links that we are given so that you will learn the concept behind the code that you are writing.\n",
    "    \n",
    "    5. We are giving instructions at each section if necessary, please follow them. \n",
    "\n",
    "<font size=5>Every Grader function has to return True. </font>\n",
    "</pre>"
   ]
  },
  {
   "cell_type": "code",
   "execution_count": null,
   "metadata": {
    "id": "E6JSKPjKwOLP"
   },
   "outputs": [],
   "source": [
    "#in this assignment you need two files reviews.csv and tokenization file\n",
    "#you can use gdown module to import both the files in colab from Google drive\n",
    "#the syntax is for gdown is !gdown --id file_id\n",
    "#please run the below cell to import the required files\n"
   ]
  },
  {
   "cell_type": "code",
   "execution_count": 1,
   "metadata": {
    "colab": {
     "base_uri": "https://localhost:8080/"
    },
    "id": "NUGbEZafwwzX",
    "outputId": "48698f3f-bbe0-42ee-91c4-dc575c60f5ed"
   },
   "outputs": [
    {
     "name": "stdout",
     "output_type": "stream",
     "text": [
      "/usr/local/lib/python3.7/dist-packages/gdown/cli.py:131: FutureWarning: Option `--id` was deprecated in version 4.3.1 and will be removed in 5.0. You don't need to pass it anymore to use a file ID.\n",
      "  category=FutureWarning,\n",
      "Downloading...\n",
      "From: https://drive.google.com/uc?id=1GsD8JlAc_0yJ-1151LNr6rLw83RRUPgt\n",
      "To: /content/Reviews.csv\n",
      "100% 301M/301M [00:03<00:00, 85.8MB/s]\n",
      "/usr/local/lib/python3.7/dist-packages/gdown/cli.py:131: FutureWarning: Option `--id` was deprecated in version 4.3.1 and will be removed in 5.0. You don't need to pass it anymore to use a file ID.\n",
      "  category=FutureWarning,\n",
      "Downloading...\n",
      "From: https://drive.google.com/uc?id=13exfXiyiByluh1PfYK1EyZyizqxeCVG9\n",
      "To: /content/tokenization.py\n",
      "100% 17.3k/17.3k [00:00<00:00, 27.2MB/s]\n"
     ]
    }
   ],
   "source": [
    "!gdown --id 1GsD8JlAc_0yJ-1151LNr6rLw83RRUPgt\n",
    "!gdown --id 13exfXiyiByluh1PfYK1EyZyizqxeCVG9"
   ]
  },
  {
   "cell_type": "code",
   "execution_count": 2,
   "metadata": {
    "id": "wOtG4cf0qVAZ"
   },
   "outputs": [],
   "source": [
    "#all imports\n",
    "import numpy as np\n",
    "import pandas as pd\n",
    "import tensorflow as tf\n",
    "import tensorflow_hub as hub\n",
    "from tensorflow.keras.models import Model"
   ]
  },
  {
   "cell_type": "code",
   "execution_count": 3,
   "metadata": {
    "colab": {
     "base_uri": "https://localhost:8080/",
     "height": 35
    },
    "id": "OcmiHdAJqVAi",
    "outputId": "66bf750c-153f-46b1-bbf0-ead5c58f983c"
   },
   "outputs": [
    {
     "data": {
      "application/vnd.google.colaboratory.intrinsic+json": {
       "type": "string"
      },
      "text/plain": [
       "'/device:GPU:0'"
      ]
     },
     "execution_count": 3,
     "metadata": {},
     "output_type": "execute_result"
    }
   ],
   "source": [
    "tf.test.gpu_device_name()"
   ]
  },
  {
   "cell_type": "markdown",
   "metadata": {
    "id": "LBsay58AqVAo"
   },
   "source": [
    "<font size=4>Grader function 1 </font>"
   ]
  },
  {
   "cell_type": "code",
   "execution_count": 4,
   "metadata": {
    "colab": {
     "base_uri": "https://localhost:8080/"
    },
    "id": "aTBvOKFeqVAq",
    "outputId": "30538762-eca2-4431-9fcc-92a7bf5d7a88"
   },
   "outputs": [
    {
     "data": {
      "text/plain": [
       "True"
      ]
     },
     "execution_count": 4,
     "metadata": {},
     "output_type": "execute_result"
    }
   ],
   "source": [
    "def grader_tf_version():\n",
    "    assert((tf.__version__)>'2')\n",
    "    return True\n",
    "grader_tf_version()"
   ]
  },
  {
   "cell_type": "markdown",
   "metadata": {
    "id": "ZTWRqbrBqVAu"
   },
   "source": [
    "<pre><font size=6>Part-1: Preprocessing</font></pre>"
   ]
  },
  {
   "cell_type": "code",
   "execution_count": 5,
   "metadata": {
    "colab": {
     "base_uri": "https://localhost:8080/"
    },
    "id": "B3csZKDrqVAv",
    "outputId": "e0f83837-1937-43a3-e8a6-0a1428e21d02"
   },
   "outputs": [
    {
     "name": "stdout",
     "output_type": "stream",
     "text": [
      "<class 'pandas.core.frame.DataFrame'>\n",
      "RangeIndex: 568454 entries, 0 to 568453\n",
      "Data columns (total 10 columns):\n",
      " #   Column                  Non-Null Count   Dtype \n",
      "---  ------                  --------------   ----- \n",
      " 0   Id                      568454 non-null  int64 \n",
      " 1   ProductId               568454 non-null  object\n",
      " 2   UserId                  568454 non-null  object\n",
      " 3   ProfileName             568438 non-null  object\n",
      " 4   HelpfulnessNumerator    568454 non-null  int64 \n",
      " 5   HelpfulnessDenominator  568454 non-null  int64 \n",
      " 6   Score                   568454 non-null  int64 \n",
      " 7   Time                    568454 non-null  int64 \n",
      " 8   Summary                 568427 non-null  object\n",
      " 9   Text                    568454 non-null  object\n",
      "dtypes: int64(5), object(5)\n",
      "memory usage: 43.4+ MB\n"
     ]
    }
   ],
   "source": [
    "#Read the dataset - Amazon fine food reviews\n",
    "reviews = pd.read_csv(r\"Reviews.csv\")\n",
    "#check the info of the dataset\n",
    "reviews.info()"
   ]
  },
  {
   "cell_type": "code",
   "execution_count": 15,
   "metadata": {
    "colab": {
     "base_uri": "https://localhost:8080/",
     "height": 206
    },
    "id": "xokNn7qZqVAz",
    "outputId": "c4860bc8-e77d-4415-cc00-3c7f5319387d"
   },
   "outputs": [
    {
     "data": {
      "text/html": [
       "\n",
       "  <div id=\"df-d415df28-a86d-4105-9b1c-37b358959ddb\">\n",
       "    <div class=\"colab-df-container\">\n",
       "      <div>\n",
       "<style scoped>\n",
       "    .dataframe tbody tr th:only-of-type {\n",
       "        vertical-align: middle;\n",
       "    }\n",
       "\n",
       "    .dataframe tbody tr th {\n",
       "        vertical-align: top;\n",
       "    }\n",
       "\n",
       "    .dataframe thead th {\n",
       "        text-align: right;\n",
       "    }\n",
       "</style>\n",
       "<table border=\"1\" class=\"dataframe\">\n",
       "  <thead>\n",
       "    <tr style=\"text-align: right;\">\n",
       "      <th></th>\n",
       "      <th>Text</th>\n",
       "      <th>Score</th>\n",
       "    </tr>\n",
       "  </thead>\n",
       "  <tbody>\n",
       "    <tr>\n",
       "      <th>0</th>\n",
       "      <td>I have bought several of the Vitality canned d...</td>\n",
       "      <td>5</td>\n",
       "    </tr>\n",
       "    <tr>\n",
       "      <th>1</th>\n",
       "      <td>Product arrived labeled as Jumbo Salted Peanut...</td>\n",
       "      <td>1</td>\n",
       "    </tr>\n",
       "    <tr>\n",
       "      <th>2</th>\n",
       "      <td>This is a confection that has been around a fe...</td>\n",
       "      <td>4</td>\n",
       "    </tr>\n",
       "    <tr>\n",
       "      <th>3</th>\n",
       "      <td>If you are looking for the secret ingredient i...</td>\n",
       "      <td>2</td>\n",
       "    </tr>\n",
       "    <tr>\n",
       "      <th>4</th>\n",
       "      <td>Great taffy at a great price.  There was a wid...</td>\n",
       "      <td>5</td>\n",
       "    </tr>\n",
       "  </tbody>\n",
       "</table>\n",
       "</div>\n",
       "      <button class=\"colab-df-convert\" onclick=\"convertToInteractive('df-d415df28-a86d-4105-9b1c-37b358959ddb')\"\n",
       "              title=\"Convert this dataframe to an interactive table.\"\n",
       "              style=\"display:none;\">\n",
       "        \n",
       "  <svg xmlns=\"http://www.w3.org/2000/svg\" height=\"24px\"viewBox=\"0 0 24 24\"\n",
       "       width=\"24px\">\n",
       "    <path d=\"M0 0h24v24H0V0z\" fill=\"none\"/>\n",
       "    <path d=\"M18.56 5.44l.94 2.06.94-2.06 2.06-.94-2.06-.94-.94-2.06-.94 2.06-2.06.94zm-11 1L8.5 8.5l.94-2.06 2.06-.94-2.06-.94L8.5 2.5l-.94 2.06-2.06.94zm10 10l.94 2.06.94-2.06 2.06-.94-2.06-.94-.94-2.06-.94 2.06-2.06.94z\"/><path d=\"M17.41 7.96l-1.37-1.37c-.4-.4-.92-.59-1.43-.59-.52 0-1.04.2-1.43.59L10.3 9.45l-7.72 7.72c-.78.78-.78 2.05 0 2.83L4 21.41c.39.39.9.59 1.41.59.51 0 1.02-.2 1.41-.59l7.78-7.78 2.81-2.81c.8-.78.8-2.07 0-2.86zM5.41 20L4 18.59l7.72-7.72 1.47 1.35L5.41 20z\"/>\n",
       "  </svg>\n",
       "      </button>\n",
       "      \n",
       "  <style>\n",
       "    .colab-df-container {\n",
       "      display:flex;\n",
       "      flex-wrap:wrap;\n",
       "      gap: 12px;\n",
       "    }\n",
       "\n",
       "    .colab-df-convert {\n",
       "      background-color: #E8F0FE;\n",
       "      border: none;\n",
       "      border-radius: 50%;\n",
       "      cursor: pointer;\n",
       "      display: none;\n",
       "      fill: #1967D2;\n",
       "      height: 32px;\n",
       "      padding: 0 0 0 0;\n",
       "      width: 32px;\n",
       "    }\n",
       "\n",
       "    .colab-df-convert:hover {\n",
       "      background-color: #E2EBFA;\n",
       "      box-shadow: 0px 1px 2px rgba(60, 64, 67, 0.3), 0px 1px 3px 1px rgba(60, 64, 67, 0.15);\n",
       "      fill: #174EA6;\n",
       "    }\n",
       "\n",
       "    [theme=dark] .colab-df-convert {\n",
       "      background-color: #3B4455;\n",
       "      fill: #D2E3FC;\n",
       "    }\n",
       "\n",
       "    [theme=dark] .colab-df-convert:hover {\n",
       "      background-color: #434B5C;\n",
       "      box-shadow: 0px 1px 3px 1px rgba(0, 0, 0, 0.15);\n",
       "      filter: drop-shadow(0px 1px 2px rgba(0, 0, 0, 0.3));\n",
       "      fill: #FFFFFF;\n",
       "    }\n",
       "  </style>\n",
       "\n",
       "      <script>\n",
       "        const buttonEl =\n",
       "          document.querySelector('#df-d415df28-a86d-4105-9b1c-37b358959ddb button.colab-df-convert');\n",
       "        buttonEl.style.display =\n",
       "          google.colab.kernel.accessAllowed ? 'block' : 'none';\n",
       "\n",
       "        async function convertToInteractive(key) {\n",
       "          const element = document.querySelector('#df-d415df28-a86d-4105-9b1c-37b358959ddb');\n",
       "          const dataTable =\n",
       "            await google.colab.kernel.invokeFunction('convertToInteractive',\n",
       "                                                     [key], {});\n",
       "          if (!dataTable) return;\n",
       "\n",
       "          const docLinkHtml = 'Like what you see? Visit the ' +\n",
       "            '<a target=\"_blank\" href=https://colab.research.google.com/notebooks/data_table.ipynb>data table notebook</a>'\n",
       "            + ' to learn more about interactive tables.';\n",
       "          element.innerHTML = '';\n",
       "          dataTable['output_type'] = 'display_data';\n",
       "          await google.colab.output.renderOutput(dataTable, element);\n",
       "          const docLink = document.createElement('div');\n",
       "          docLink.innerHTML = docLinkHtml;\n",
       "          element.appendChild(docLink);\n",
       "        }\n",
       "      </script>\n",
       "    </div>\n",
       "  </div>\n",
       "  "
      ],
      "text/plain": [
       "                                                Text  Score\n",
       "0  I have bought several of the Vitality canned d...      5\n",
       "1  Product arrived labeled as Jumbo Salted Peanut...      1\n",
       "2  This is a confection that has been around a fe...      4\n",
       "3  If you are looking for the secret ingredient i...      2\n",
       "4  Great taffy at a great price.  There was a wid...      5"
      ]
     },
     "execution_count": 15,
     "metadata": {},
     "output_type": "execute_result"
    }
   ],
   "source": [
    "#get only 2 columns - Text, Score\n",
    "#drop the NAN values\n",
    "reviews = reviews[['Text','Score']]\n",
    "reviews.head()"
   ]
  },
  {
   "cell_type": "markdown",
   "metadata": {
    "id": "xu2IyAfKqUmS"
   },
   "source": [
    "Checking for null values - As can be observed from the below code there are no null values in the data."
   ]
  },
  {
   "cell_type": "code",
   "execution_count": 16,
   "metadata": {
    "colab": {
     "base_uri": "https://localhost:8080/"
    },
    "id": "04kqGxz8qNFh",
    "outputId": "bb7c9d03-7076-4f33-a0c5-627764c0ee41"
   },
   "outputs": [
    {
     "data": {
      "text/plain": [
       "Text     0\n",
       "Score    0\n",
       "dtype: int64"
      ]
     },
     "execution_count": 16,
     "metadata": {},
     "output_type": "execute_result"
    }
   ],
   "source": [
    "reviews.isnull().apply(sum)"
   ]
  },
  {
   "cell_type": "code",
   "execution_count": 17,
   "metadata": {
    "colab": {
     "base_uri": "https://localhost:8080/",
     "height": 206
    },
    "id": "5GZt7pVkqVA4",
    "outputId": "e2911544-ef73-4933-8623-288a139a061c"
   },
   "outputs": [
    {
     "data": {
      "text/html": [
       "\n",
       "  <div id=\"df-ab10a2be-6724-43a7-8196-6ff04120edb1\">\n",
       "    <div class=\"colab-df-container\">\n",
       "      <div>\n",
       "<style scoped>\n",
       "    .dataframe tbody tr th:only-of-type {\n",
       "        vertical-align: middle;\n",
       "    }\n",
       "\n",
       "    .dataframe tbody tr th {\n",
       "        vertical-align: top;\n",
       "    }\n",
       "\n",
       "    .dataframe thead th {\n",
       "        text-align: right;\n",
       "    }\n",
       "</style>\n",
       "<table border=\"1\" class=\"dataframe\">\n",
       "  <thead>\n",
       "    <tr style=\"text-align: right;\">\n",
       "      <th></th>\n",
       "      <th>Text</th>\n",
       "      <th>Score</th>\n",
       "    </tr>\n",
       "  </thead>\n",
       "  <tbody>\n",
       "    <tr>\n",
       "      <th>0</th>\n",
       "      <td>I have bought several of the Vitality canned d...</td>\n",
       "      <td>1.0</td>\n",
       "    </tr>\n",
       "    <tr>\n",
       "      <th>1</th>\n",
       "      <td>Product arrived labeled as Jumbo Salted Peanut...</td>\n",
       "      <td>0.0</td>\n",
       "    </tr>\n",
       "    <tr>\n",
       "      <th>2</th>\n",
       "      <td>This is a confection that has been around a fe...</td>\n",
       "      <td>1.0</td>\n",
       "    </tr>\n",
       "    <tr>\n",
       "      <th>3</th>\n",
       "      <td>If you are looking for the secret ingredient i...</td>\n",
       "      <td>0.0</td>\n",
       "    </tr>\n",
       "    <tr>\n",
       "      <th>4</th>\n",
       "      <td>Great taffy at a great price.  There was a wid...</td>\n",
       "      <td>1.0</td>\n",
       "    </tr>\n",
       "  </tbody>\n",
       "</table>\n",
       "</div>\n",
       "      <button class=\"colab-df-convert\" onclick=\"convertToInteractive('df-ab10a2be-6724-43a7-8196-6ff04120edb1')\"\n",
       "              title=\"Convert this dataframe to an interactive table.\"\n",
       "              style=\"display:none;\">\n",
       "        \n",
       "  <svg xmlns=\"http://www.w3.org/2000/svg\" height=\"24px\"viewBox=\"0 0 24 24\"\n",
       "       width=\"24px\">\n",
       "    <path d=\"M0 0h24v24H0V0z\" fill=\"none\"/>\n",
       "    <path d=\"M18.56 5.44l.94 2.06.94-2.06 2.06-.94-2.06-.94-.94-2.06-.94 2.06-2.06.94zm-11 1L8.5 8.5l.94-2.06 2.06-.94-2.06-.94L8.5 2.5l-.94 2.06-2.06.94zm10 10l.94 2.06.94-2.06 2.06-.94-2.06-.94-.94-2.06-.94 2.06-2.06.94z\"/><path d=\"M17.41 7.96l-1.37-1.37c-.4-.4-.92-.59-1.43-.59-.52 0-1.04.2-1.43.59L10.3 9.45l-7.72 7.72c-.78.78-.78 2.05 0 2.83L4 21.41c.39.39.9.59 1.41.59.51 0 1.02-.2 1.41-.59l7.78-7.78 2.81-2.81c.8-.78.8-2.07 0-2.86zM5.41 20L4 18.59l7.72-7.72 1.47 1.35L5.41 20z\"/>\n",
       "  </svg>\n",
       "      </button>\n",
       "      \n",
       "  <style>\n",
       "    .colab-df-container {\n",
       "      display:flex;\n",
       "      flex-wrap:wrap;\n",
       "      gap: 12px;\n",
       "    }\n",
       "\n",
       "    .colab-df-convert {\n",
       "      background-color: #E8F0FE;\n",
       "      border: none;\n",
       "      border-radius: 50%;\n",
       "      cursor: pointer;\n",
       "      display: none;\n",
       "      fill: #1967D2;\n",
       "      height: 32px;\n",
       "      padding: 0 0 0 0;\n",
       "      width: 32px;\n",
       "    }\n",
       "\n",
       "    .colab-df-convert:hover {\n",
       "      background-color: #E2EBFA;\n",
       "      box-shadow: 0px 1px 2px rgba(60, 64, 67, 0.3), 0px 1px 3px 1px rgba(60, 64, 67, 0.15);\n",
       "      fill: #174EA6;\n",
       "    }\n",
       "\n",
       "    [theme=dark] .colab-df-convert {\n",
       "      background-color: #3B4455;\n",
       "      fill: #D2E3FC;\n",
       "    }\n",
       "\n",
       "    [theme=dark] .colab-df-convert:hover {\n",
       "      background-color: #434B5C;\n",
       "      box-shadow: 0px 1px 3px 1px rgba(0, 0, 0, 0.15);\n",
       "      filter: drop-shadow(0px 1px 2px rgba(0, 0, 0, 0.3));\n",
       "      fill: #FFFFFF;\n",
       "    }\n",
       "  </style>\n",
       "\n",
       "      <script>\n",
       "        const buttonEl =\n",
       "          document.querySelector('#df-ab10a2be-6724-43a7-8196-6ff04120edb1 button.colab-df-convert');\n",
       "        buttonEl.style.display =\n",
       "          google.colab.kernel.accessAllowed ? 'block' : 'none';\n",
       "\n",
       "        async function convertToInteractive(key) {\n",
       "          const element = document.querySelector('#df-ab10a2be-6724-43a7-8196-6ff04120edb1');\n",
       "          const dataTable =\n",
       "            await google.colab.kernel.invokeFunction('convertToInteractive',\n",
       "                                                     [key], {});\n",
       "          if (!dataTable) return;\n",
       "\n",
       "          const docLinkHtml = 'Like what you see? Visit the ' +\n",
       "            '<a target=\"_blank\" href=https://colab.research.google.com/notebooks/data_table.ipynb>data table notebook</a>'\n",
       "            + ' to learn more about interactive tables.';\n",
       "          element.innerHTML = '';\n",
       "          dataTable['output_type'] = 'display_data';\n",
       "          await google.colab.output.renderOutput(dataTable, element);\n",
       "          const docLink = document.createElement('div');\n",
       "          docLink.innerHTML = docLinkHtml;\n",
       "          element.appendChild(docLink);\n",
       "        }\n",
       "      </script>\n",
       "    </div>\n",
       "  </div>\n",
       "  "
      ],
      "text/plain": [
       "                                                Text  Score\n",
       "0  I have bought several of the Vitality canned d...    1.0\n",
       "1  Product arrived labeled as Jumbo Salted Peanut...    0.0\n",
       "2  This is a confection that has been around a fe...    1.0\n",
       "3  If you are looking for the secret ingredient i...    0.0\n",
       "4  Great taffy at a great price.  There was a wid...    1.0"
      ]
     },
     "execution_count": 17,
     "metadata": {},
     "output_type": "execute_result"
    }
   ],
   "source": [
    "#if score> 3, set score = 1\n",
    "#if score<=2, set score = 0\n",
    "#if score == 3, remove the rows.\n",
    "\n",
    "def binary_conversion(x):\n",
    "  if x > 3:\n",
    "    return 1\n",
    "  elif x<=2:\n",
    "    return 0\n",
    "  return None\n",
    "\n",
    "reviews['Score'] = reviews['Score'].apply(binary_conversion)\n",
    "reviews.head()  "
   ]
  },
  {
   "cell_type": "code",
   "execution_count": 18,
   "metadata": {
    "colab": {
     "base_uri": "https://localhost:8080/"
    },
    "id": "hHpAV3DorNsq",
    "outputId": "509349c7-f6d6-4a6f-d86e-11091ed945d1"
   },
   "outputs": [
    {
     "data": {
      "text/plain": [
       "42640"
      ]
     },
     "execution_count": 18,
     "metadata": {},
     "output_type": "execute_result"
    }
   ],
   "source": [
    "sum(reviews.Score.isnull())"
   ]
  },
  {
   "cell_type": "code",
   "execution_count": 19,
   "metadata": {
    "colab": {
     "base_uri": "https://localhost:8080/"
    },
    "id": "Buz7Fo7Crv6Y",
    "outputId": "ee3c6abc-7b78-4d7a-f001-14f2c851566e"
   },
   "outputs": [
    {
     "name": "stdout",
     "output_type": "stream",
     "text": [
      "(525814, 2)\n"
     ]
    }
   ],
   "source": [
    "reviews.dropna(inplace = True)\n",
    "print(reviews.shape)"
   ]
  },
  {
   "cell_type": "markdown",
   "metadata": {
    "id": "oVe8LlkrqVA6"
   },
   "source": [
    "<font size=4>Grader function 2 </font>"
   ]
  },
  {
   "cell_type": "code",
   "execution_count": 20,
   "metadata": {
    "colab": {
     "base_uri": "https://localhost:8080/"
    },
    "id": "7mDXSiJpqVA7",
    "outputId": "7a892679-8149-4c17-978c-799da95b5e86"
   },
   "outputs": [
    {
     "data": {
      "text/plain": [
       "True"
      ]
     },
     "execution_count": 20,
     "metadata": {},
     "output_type": "execute_result"
    }
   ],
   "source": [
    "def grader_reviews():\n",
    "    temp_shape = (reviews.shape == (525814, 2)) and (reviews.Score.value_counts()[1]==443777)\n",
    "    assert(temp_shape == True)\n",
    "    return True\n",
    "grader_reviews()"
   ]
  },
  {
   "cell_type": "code",
   "execution_count": 21,
   "metadata": {
    "id": "xYZ-UB9UqVA-"
   },
   "outputs": [],
   "source": [
    "def get_wordlen(x):\n",
    "    return len(x.split())\n",
    "reviews['len'] = reviews.Text.apply(get_wordlen)\n",
    "reviews = reviews[reviews.len<50]\n",
    "reviews = reviews.sample(n=100000, random_state=30)"
   ]
  },
  {
   "cell_type": "code",
   "execution_count": 22,
   "metadata": {
    "id": "CvldQriGqVBB"
   },
   "outputs": [],
   "source": [
    "#remove HTML from the Text column and save in the Text column only\n",
    "import re\n",
    "def remove_html(x):\n",
    "  return re.sub(\"<.*?>\", '', x)\n",
    "\n",
    "reviews['Text'] = reviews['Text'].apply(remove_html)"
   ]
  },
  {
   "cell_type": "code",
   "execution_count": 23,
   "metadata": {
    "colab": {
     "base_uri": "https://localhost:8080/"
    },
    "id": "AhfN1s2mqVBD",
    "outputId": "ac1aa85e-649a-4e3c-dd50-d6d16d49aa57"
   },
   "outputs": [
    {
     "name": "stdout",
     "output_type": "stream",
     "text": [
      "                                                     Text  Score  len\n",
      "64117   The tea was of great quality and it tasted lik...    1.0   30\n",
      "418112  My cat loves this.  The pellets are nice and s...    1.0   31\n",
      "357829  Great product. Does not completely get rid of ...    1.0   41\n",
      "175872  This gum is my favorite!  I would advise every...    1.0   27\n",
      "178716  I also found out about this product because of...    1.0   22\n"
     ]
    }
   ],
   "source": [
    "#print head 5\n",
    "print(reviews.head(5))"
   ]
  },
  {
   "cell_type": "code",
   "execution_count": 25,
   "metadata": {
    "id": "NsYDd3okqVBF"
   },
   "outputs": [],
   "source": [
    "#split the data into train and test data(20%) with Stratify sampling, random state 33\n",
    "from sklearn.model_selection import train_test_split\n",
    "\n",
    "X_train, X_test, y_train, y_test = train_test_split(reviews['Text'], reviews['Score'], test_size = 0.2, stratify = reviews['Score'], \n",
    "                                                    random_state = 33)"
   ]
  },
  {
   "cell_type": "code",
   "execution_count": 33,
   "metadata": {
    "id": "ITFGM2KZvDRX"
   },
   "outputs": [],
   "source": [
    "vals_tr = y_train.value_counts()\n",
    "vals_te = y_test.value_counts()"
   ]
  },
  {
   "cell_type": "code",
   "execution_count": 44,
   "metadata": {
    "colab": {
     "base_uri": "https://localhost:8080/",
     "height": 356
    },
    "id": "-Q6OAcrOqVBI",
    "outputId": "129c2d3d-fdb3-448d-cd0b-677bfb2d80b7"
   },
   "outputs": [
    {
     "data": {
      "image/png": "[encoded data removed]",
      "text/plain": [
       "<Figure size 576x360 with 2 Axes>"
      ]
     },
     "metadata": {
      "needs_background": "light"
     },
     "output_type": "display_data"
    }
   ],
   "source": [
    "#plot bar graphs of y_train and y_test\n",
    "import matplotlib.pyplot as plt\n",
    "fig, (ax1, ax2) = plt.subplots(1, 2)\n",
    "fig.set_figheight(5)\n",
    "fig.set_figwidth(8)\n",
    "fig.suptitle('Comparing Ratio of Classes in Train and Test')\n",
    "ax1.bar(vals_tr.index, vals_tr.values, color = ['green', 'orange'])\n",
    "ax1.set_title(\"y_train\")\n",
    "ax1.set_xticks([0, 1])\n",
    "ax2.bar(vals_te.index, vals_te.values, color = ['green', 'orange'])\n",
    "ax2.set_title(\"y_test\")\n",
    "ax2.set_xticks([0, 1])\n",
    "plt.show()"
   ]
  },
  {
   "cell_type": "code",
   "execution_count": 45,
   "metadata": {
    "id": "Up-z5boWqVBK"
   },
   "outputs": [],
   "source": [
    "#saving to disk. if we need, we can load preprocessed data directly. \n",
    "reviews.to_csv('preprocessed.csv', index=False)"
   ]
  },
  {
   "cell_type": "markdown",
   "metadata": {
    "id": "bBtqNGN9qVBM"
   },
   "source": [
    "<pre><font size=6>Part-2: Creating BERT Model</font> \n",
    "\n",
    "If you want to know more about BERT, You can watch live sessions on Transformers and BERt. \n",
    "we will strongly recommend you to read <a href=\"https://jalammar.github.io/illustrated-transformer/\">Transformers</a>, <a href=\"https://arxiv.org/abs/1810.04805\">BERT Paper</a> and, <a href=\"https://jalammar.github.io/a-visual-guide-to-using-bert-for-the-first-time/\">This blog</a>.\n",
    "\n",
    "\n",
    "For this assignment, we are using <a href=\"https://tfhub.dev/tensorflow/bert_en_uncased_L-12_H-768_A-12/1\">BERT uncased Base model</a>. \n",
    "It uses L=12 hidden layers (i.e., Transformer blocks), a hidden size of H=768, and A=12 attention heads. </pre>"
   ]
  },
  {
   "cell_type": "code",
   "execution_count": 46,
   "metadata": {
    "id": "i8xd2HejqVBN"
   },
   "outputs": [],
   "source": [
    "## Loading the Pretrained Model from tensorflow HUB\n",
    "tf.keras.backend.clear_session()\n",
    "\n",
    "# maximum length of a seq in the data we have, for now i am making it as 55. You can change this\n",
    "max_seq_length = 55\n",
    "\n",
    "#BERT takes 3 inputs\n",
    "\n",
    "#this is input words. Sequence of words represented as integers\n",
    "input_word_ids = tf.keras.layers.Input(shape=(max_seq_length,), dtype=tf.int32, name=\"input_word_ids\")\n",
    "\n",
    "#mask vector if you are padding anything\n",
    "input_mask = tf.keras.layers.Input(shape=(max_seq_length,), dtype=tf.int32, name=\"input_mask\")\n",
    "\n",
    "#segment vectors. If you are giving only one sentence for the classification, total seg vector is 0. \n",
    "#If you are giving two sentenced with [sep] token separated, first seq segment vectors are zeros and \n",
    "#second seq segment vector are 1's\n",
    "segment_ids = tf.keras.layers.Input(shape=(max_seq_length,), dtype=tf.int32, name=\"segment_ids\")\n",
    "\n",
    "#bert layer \n",
    "bert_layer = hub.KerasLayer(\"https://tfhub.dev/tensorflow/bert_en_uncased_L-12_H-768_A-12/1\", trainable=False)\n",
    "pooled_output, sequence_output = bert_layer([input_word_ids, input_mask, segment_ids])\n",
    "\n",
    "#Bert model\n",
    "#We are using only pooled output not sequence out. \n",
    "#If you want to know about those, please read https://www.kaggle.com/questions-and-answers/86510\n",
    "bert_model = Model(inputs=[input_word_ids, input_mask, segment_ids], outputs=pooled_output)\n"
   ]
  },
  {
   "cell_type": "code",
   "execution_count": 47,
   "metadata": {
    "colab": {
     "base_uri": "https://localhost:8080/"
    },
    "id": "lQJsjg6fqVBQ",
    "outputId": "335309fe-eb14-45c9-924f-6bffda83c956"
   },
   "outputs": [
    {
     "name": "stdout",
     "output_type": "stream",
     "text": [
      "Model: \"model\"\n",
      "__________________________________________________________________________________________________\n",
      " Layer (type)                   Output Shape         Param #     Connected to                     \n",
      "==================================================================================================\n",
      " input_word_ids (InputLayer)    [(None, 55)]         0           []                               \n",
      "                                                                                                  \n",
      " input_mask (InputLayer)        [(None, 55)]         0           []                               \n",
      "                                                                                                  \n",
      " segment_ids (InputLayer)       [(None, 55)]         0           []                               \n",
      "                                                                                                  \n",
      " keras_layer (KerasLayer)       [(None, 768),        109482241   ['input_word_ids[0][0]',         \n",
      "                                 (None, 55, 768)]                 'input_mask[0][0]',             \n",
      "                                                                  'segment_ids[0][0]']            \n",
      "                                                                                                  \n",
      "==================================================================================================\n",
      "Total params: 109,482,241\n",
      "Trainable params: 0\n",
      "Non-trainable params: 109,482,241\n",
      "__________________________________________________________________________________________________\n"
     ]
    }
   ],
   "source": [
    "bert_model.summary()"
   ]
  },
  {
   "cell_type": "code",
   "execution_count": 48,
   "metadata": {
    "colab": {
     "base_uri": "https://localhost:8080/"
    },
    "id": "w3z0OMA5qVBS",
    "outputId": "4ae08392-312f-4df6-db44-b61b2a64d1b0"
   },
   "outputs": [
    {
     "data": {
      "text/plain": [
       "<KerasTensor: shape=(None, 768) dtype=float32 (created by layer 'keras_layer')>"
      ]
     },
     "execution_count": 48,
     "metadata": {},
     "output_type": "execute_result"
    }
   ],
   "source": [
    "bert_model.output"
   ]
  },
  {
   "cell_type": "markdown",
   "metadata": {
    "id": "Ewv4hFCsqVBU"
   },
   "source": [
    "<pre><font size=6>Part-3: Tokenization</font></pre>"
   ]
  },
  {
   "cell_type": "code",
   "execution_count": 49,
   "metadata": {
    "id": "tX3VEFjiqVBU"
   },
   "outputs": [],
   "source": [
    "#getting Vocab file\n",
    "vocab_file = bert_layer.resolved_object.vocab_file.asset_path.numpy()\n",
    "do_lower_case = bert_layer.resolved_object.do_lower_case.numpy()"
   ]
  },
  {
   "cell_type": "code",
   "execution_count": 55,
   "metadata": {
    "colab": {
     "base_uri": "https://localhost:8080/"
    },
    "id": "OOHlaNe_3bB2",
    "outputId": "8db75e97-973b-4d68-d735-52889704ba57"
   },
   "outputs": [
    {
     "name": "stdout",
     "output_type": "stream",
     "text": [
      "Looking in indexes: https://pypi.org/simple, https://us-python.pkg.dev/colab-wheels/public/simple/\n",
      "Collecting sentencepiece\n",
      "  Downloading sentencepiece-0.1.97-cp37-cp37m-manylinux_2_17_x86_64.manylinux2014_x86_64.whl (1.3 MB)\n",
      "\u001b[K     |████████████████████████████████| 1.3 MB 14.3 MB/s \n",
      "\u001b[?25hInstalling collected packages: sentencepiece\n",
      "Successfully installed sentencepiece-0.1.97\n"
     ]
    }
   ],
   "source": [
    "!pip install sentencepiece"
   ]
  },
  {
   "cell_type": "code",
   "execution_count": 56,
   "metadata": {
    "id": "Y_iPwa99qVBW"
   },
   "outputs": [],
   "source": [
    "import tokenization #We have given tokenization.py file"
   ]
  },
  {
   "cell_type": "code",
   "execution_count": null,
   "metadata": {
    "id": "guJMLJ8bqVBY"
   },
   "outputs": [],
   "source": [
    "# Create tokenizer \" Instantiate FullTokenizer\" \n",
    "# name must be \"tokenizer\"\n",
    "# the FullTokenizer takes two parameters 1. vocab_file and 2. do_lower_case \n",
    "# we have created these in the above cell ex: FullTokenizer(vocab_file, do_lower_case )\n",
    "# please check the \"tokenization.py\" file the complete implementation\n"
   ]
  },
  {
   "cell_type": "code",
   "execution_count": 57,
   "metadata": {
    "id": "qlGFtp2xxzt6"
   },
   "outputs": [],
   "source": [
    "# if you are getting error for sentencepiece module you can install it using below command while running this cell for the first time\n",
    "#!pip install sentencepiece\n",
    "tokenizer = tokenization.FullTokenizer(vocab_file,do_lower_case )"
   ]
  },
  {
   "cell_type": "markdown",
   "metadata": {
    "id": "KKkGLhR-qVBd"
   },
   "source": [
    "<font size=4>Grader function 3 </font>"
   ]
  },
  {
   "cell_type": "code",
   "execution_count": 58,
   "metadata": {
    "colab": {
     "base_uri": "https://localhost:8080/"
    },
    "id": "2CPu850xqVBe",
    "outputId": "790615f0-205d-41c9-e2ef-b4e307aeffeb"
   },
   "outputs": [
    {
     "data": {
      "text/plain": [
       "True"
      ]
     },
     "execution_count": 58,
     "metadata": {},
     "output_type": "execute_result"
    }
   ],
   "source": [
    "#it has to give no error \n",
    "def grader_tokenize(tokenizer):\n",
    "    out = False\n",
    "    try:\n",
    "        out=('[CLS]' in tokenizer.vocab) and ('[SEP]' in tokenizer.vocab)\n",
    "    except:\n",
    "        out = False\n",
    "    assert(out==True)\n",
    "    return out\n",
    "grader_tokenize(tokenizer)"
   ]
  },
  {
   "cell_type": "code",
   "execution_count": null,
   "metadata": {
    "id": "9crhPylQqVBg"
   },
   "outputs": [],
   "source": [
    "# Create train and test tokens (X_train_tokens, X_test_tokens) from (X_train, X_test) using Tokenizer and \n",
    "\n",
    "# add '[CLS]' at start of the Tokens and '[SEP]' at the end of the tokens. \n",
    "\n",
    "# maximum number of tokens is 55(We already given this to BERT layer above) so shape is (None, 55)\n",
    "\n",
    "# if it is less than 55, add '[PAD]' token else truncate the tokens length.(similar to padding)\n",
    "\n",
    "# Based on padding, create the mask for Train and Test ( 1 for real token, 0 for '[PAD]'), \n",
    "# it will also same shape as input tokens (None, 55) save those in X_train_mask, X_test_mask\n",
    "\n",
    "# Create a segment input for train and test. We are using only one sentence so all zeros. This shape will also (None, 55)\n",
    "\n",
    "# type of all the above arrays should be numpy arrays\n",
    "\n",
    "# after execution of this cell, you have to get \n",
    "# X_train_tokens, X_train_mask, X_train_segment\n",
    "# X_test_tokens, X_test_mask, X_test_segment"
   ]
  },
  {
   "cell_type": "code",
   "execution_count": 93,
   "metadata": {
    "colab": {
     "base_uri": "https://localhost:8080/"
    },
    "id": "mMoHhFvSAuM-",
    "outputId": "14b91fa5-1d70-4f39-aee5-939965e4cabc"
   },
   "outputs": [
    {
     "data": {
      "text/plain": [
       "36"
      ]
     },
     "execution_count": 93,
     "metadata": {},
     "output_type": "execute_result"
    }
   ],
   "source": [
    "len(X_train_tokens[0])"
   ]
  },
  {
   "cell_type": "code",
   "execution_count": 109,
   "metadata": {
    "id": "KkmHbM9H4crz"
   },
   "outputs": [],
   "source": [
    "train_tokens = []\n",
    "train_mask = []\n",
    "train_segment = []\n",
    "for text in X_train.values:\n",
    "  tokens = tokenizer.tokenize(text)\n",
    "  if len(tokens) > (max_seq_length-2):\n",
    "    tokens = tokens[0:(max_seq_length-2)]\n",
    "  tokens = ['[CLS]', *tokens, '[SEP]']\n",
    "  token_length = len(tokens)\n",
    "  if len(tokens) < max_seq_length:\n",
    "    pad = [\"[PAD]\"]\n",
    "    tokens.extend(pad*(max_seq_length - len(tokens)))\n",
    "  tokens = np.array(tokens)\n",
    "  mask = np.array([1]*token_length+ [0]*(max_seq_length - token_length))\n",
    "  segment = np.array([0]*max_seq_length)\n",
    "  train_tokens.append(np.array(tokenizer.convert_tokens_to_ids(tokens)))\n",
    "  train_mask.append(mask)\n",
    "  train_segment.append(segment)\n",
    "\n",
    "X_train_tokens = np.array(train_tokens)\n",
    "X_train_mask = np.array(train_mask)\n",
    "X_train_segment = np.array(train_segment)"
   ]
  },
  {
   "cell_type": "code",
   "execution_count": 112,
   "metadata": {
    "id": "nGwbHZRK6wrM"
   },
   "outputs": [],
   "source": [
    "test_tokens = []\n",
    "test_mask = []\n",
    "test_segment = []\n",
    "for text in X_test.values:\n",
    "  tokens = tokenizer.tokenize(text)\n",
    "  if len(tokens) > (max_seq_length-2):\n",
    "    tokens = tokens[0:(max_seq_length-2)]\n",
    "  tokens = ['[CLS]', *tokens, '[SEP]']\n",
    "  token_length = len(tokens)\n",
    "  if len(tokens) < max_seq_length:\n",
    "    pad = [\"[PAD]\"]\n",
    "    tokens.extend(pad*(max_seq_length - len(tokens)))\n",
    "  tokens = np.array(tokens)\n",
    "  mask = np.array([1]*token_length+ [0]*(max_seq_length - token_length))\n",
    "  segment = np.array([0]*max_seq_length)\n",
    "  test_tokens.append(np.array(tokenizer.convert_tokens_to_ids(tokens)))\n",
    "  test_mask.append(mask)\n",
    "  test_segment.append(segment)\n",
    "\n",
    "X_test_tokens = np.array(test_tokens)\n",
    "X_test_mask = np.array(test_mask)\n",
    "X_test_segment = np.array(test_segment)"
   ]
  },
  {
   "cell_type": "markdown",
   "metadata": {
    "id": "kv1-t4OjqVBj"
   },
   "source": [
    "#### Example\n",
    "<img src='https://i.imgur.com/5AhhmgU.png'>"
   ]
  },
  {
   "cell_type": "code",
   "execution_count": 113,
   "metadata": {
    "id": "dxhggBxwqVBj"
   },
   "outputs": [],
   "source": [
    "import pickle"
   ]
  },
  {
   "cell_type": "code",
   "execution_count": 114,
   "metadata": {
    "id": "xF0idMRDqVBm"
   },
   "outputs": [],
   "source": [
    "##save all your results to disk so that, no need to run all again. \n",
    "pickle.dump((X_train, X_train_tokens, X_train_mask, X_train_segment, y_train),open('train_data.pkl','wb'))\n",
    "pickle.dump((X_test, X_test_tokens, X_test_mask, X_test_segment, y_test),open('test_data.pkl','wb'))"
   ]
  },
  {
   "cell_type": "code",
   "execution_count": null,
   "metadata": {
    "id": "Leu1URGzqVBo"
   },
   "outputs": [],
   "source": [
    "#you can load from disk\n",
    "#X_train, X_train_tokens, X_train_mask, X_train_segment, y_train = pickle.load(open(\"train_data.pkl\", 'rb')) \n",
    "#X_test, X_test_tokens, X_test_mask, X_test_segment, y_test = pickle.load(open(\"test_data.pkl\", 'rb')) "
   ]
  },
  {
   "cell_type": "markdown",
   "metadata": {
    "id": "sjPv8VkJqVBr"
   },
   "source": [
    "<font size=4>Grader function 4 </font>"
   ]
  },
  {
   "cell_type": "code",
   "execution_count": 115,
   "metadata": {
    "colab": {
     "base_uri": "https://localhost:8080/"
    },
    "id": "qekHJgmdqVBs",
    "outputId": "f06b95c5-e7c2-4b83-a2ee-743c5aec7323"
   },
   "outputs": [
    {
     "data": {
      "text/plain": [
       "True"
      ]
     },
     "execution_count": 115,
     "metadata": {},
     "output_type": "execute_result"
    }
   ],
   "source": [
    "def grader_alltokens_train():\n",
    "    out = False\n",
    "    \n",
    "    if type(X_train_tokens) == np.ndarray:\n",
    "        \n",
    "        temp_shapes = (X_train_tokens.shape[1]==max_seq_length) and (X_train_mask.shape[1]==max_seq_length) and \\\n",
    "        (X_train_segment.shape[1]==max_seq_length)\n",
    "        \n",
    "        segment_temp = not np.any(X_train_segment)\n",
    "        \n",
    "        mask_temp = np.sum(X_train_mask==0) == np.sum(X_train_tokens==0)\n",
    "        \n",
    "        no_cls = np.sum(X_train_tokens==tokenizer.vocab['[CLS]'])==X_train_tokens.shape[0]\n",
    "        \n",
    "        no_sep = np.sum(X_train_tokens==tokenizer.vocab['[SEP]'])==X_train_tokens.shape[0]\n",
    "        \n",
    "        out = temp_shapes and segment_temp and mask_temp and no_cls and no_sep\n",
    "      \n",
    "    else:\n",
    "        print('Type of all above token arrays should be numpy array not list')\n",
    "        out = False\n",
    "    assert(out==True)\n",
    "    return out\n",
    "\n",
    "grader_alltokens_train()"
   ]
  },
  {
   "cell_type": "markdown",
   "metadata": {
    "id": "KnvC6X_wqVBu"
   },
   "source": [
    "<font size=4>Grader function 5 </font>"
   ]
  },
  {
   "cell_type": "code",
   "execution_count": 116,
   "metadata": {
    "colab": {
     "base_uri": "https://localhost:8080/"
    },
    "id": "Av4SRMPSqVBv",
    "outputId": "3f6cd5da-606a-4cc8-f47a-6ea5bd3f5e5b"
   },
   "outputs": [
    {
     "data": {
      "text/plain": [
       "True"
      ]
     },
     "execution_count": 116,
     "metadata": {},
     "output_type": "execute_result"
    }
   ],
   "source": [
    "def grader_alltokens_test():\n",
    "    out = False\n",
    "    if type(X_test_tokens) == np.ndarray:\n",
    "        \n",
    "        temp_shapes = (X_test_tokens.shape[1]==max_seq_length) and (X_test_mask.shape[1]==max_seq_length) and \\\n",
    "        (X_test_segment.shape[1]==max_seq_length)\n",
    "        \n",
    "        segment_temp = not np.any(X_test_segment)\n",
    "        \n",
    "        mask_temp = np.sum(X_test_mask==0) == np.sum(X_test_tokens==0)\n",
    "        \n",
    "        no_cls = np.sum(X_test_tokens==tokenizer.vocab['[CLS]'])==X_test_tokens.shape[0]\n",
    "        \n",
    "        no_sep = np.sum(X_test_tokens==tokenizer.vocab['[SEP]'])==X_test_tokens.shape[0]\n",
    "        \n",
    "        out = temp_shapes and segment_temp and mask_temp and no_cls and no_sep\n",
    "      \n",
    "    else:\n",
    "        print('Type of all above token arrays should be numpy array not list')\n",
    "        out = False\n",
    "    assert(out==True)\n",
    "    return out\n",
    "grader_alltokens_test()"
   ]
  },
  {
   "cell_type": "markdown",
   "metadata": {
    "id": "SEj-Eua5qVBx"
   },
   "source": [
    "<pre><font size=6>Part-4: Getting Embeddings from BERT Model</font>\n",
    "We already created the BERT model in the part-2 and input data in the part-3. \n",
    "We will utlize those two and will get the embeddings for each sentence in the \n",
    "Train and test data.</pre>"
   ]
  },
  {
   "cell_type": "code",
   "execution_count": 117,
   "metadata": {
    "colab": {
     "base_uri": "https://localhost:8080/"
    },
    "id": "QwOVgQFDqVBy",
    "outputId": "0eabfbf2-0895-46b2-bb33-e38cef7b3c77"
   },
   "outputs": [
    {
     "data": {
      "text/plain": [
       "[<KerasTensor: shape=(None, 55) dtype=int32 (created by layer 'input_word_ids')>,\n",
       " <KerasTensor: shape=(None, 55) dtype=int32 (created by layer 'input_mask')>,\n",
       " <KerasTensor: shape=(None, 55) dtype=int32 (created by layer 'segment_ids')>]"
      ]
     },
     "execution_count": 117,
     "metadata": {},
     "output_type": "execute_result"
    }
   ],
   "source": [
    "bert_model.input"
   ]
  },
  {
   "cell_type": "code",
   "execution_count": 118,
   "metadata": {
    "colab": {
     "base_uri": "https://localhost:8080/"
    },
    "id": "ZcpkQq1OqVB0",
    "outputId": "10da9b6e-da98-4cf2-d5d1-fd0efad0dc0f"
   },
   "outputs": [
    {
     "data": {
      "text/plain": [
       "<KerasTensor: shape=(None, 768) dtype=float32 (created by layer 'keras_layer')>"
      ]
     },
     "execution_count": 118,
     "metadata": {},
     "output_type": "execute_result"
    }
   ],
   "source": [
    "bert_model.output"
   ]
  },
  {
   "cell_type": "code",
   "execution_count": 119,
   "metadata": {
    "id": "IxdIlOIBlm7j"
   },
   "outputs": [],
   "source": [
    "# get the train output, BERT model will give one output so save in\n",
    "# X_train_pooled_output\n",
    "#this cell will take some time to execute, make sure thay you have stable internet connection\n",
    "X_train_pooled_output = bert_model.predict([X_train_tokens,X_train_mask,X_train_segment])"
   ]
  },
  {
   "cell_type": "code",
   "execution_count": 120,
   "metadata": {
    "id": "yZT11BCol4gL"
   },
   "outputs": [],
   "source": [
    "# get the test output, BERT model will give one output so save in\n",
    "# X_test_pooled_output\n",
    "X_test_pooled_output = bert_model.predict([X_test_tokens,X_test_mask,X_test_segment])"
   ]
  },
  {
   "cell_type": "code",
   "execution_count": 121,
   "metadata": {
    "id": "DL6JVojfqVB8"
   },
   "outputs": [],
   "source": [
    "##save all your results to disk so that, no need to run all again. \n",
    "pickle.dump((X_train_pooled_output, X_test_pooled_output),open('final_output.pkl','wb'))"
   ]
  },
  {
   "cell_type": "code",
   "execution_count": null,
   "metadata": {
    "id": "oSQcBdROqVB9"
   },
   "outputs": [],
   "source": [
    "#X_train_pooled_output, X_test_pooled_output= pickle.load(open('final_output.pkl', 'rb'))"
   ]
  },
  {
   "cell_type": "markdown",
   "metadata": {
    "id": "ulEXFE7aqVCA"
   },
   "source": [
    "<font size=4>Grader function 6 </font>"
   ]
  },
  {
   "cell_type": "code",
   "execution_count": 122,
   "metadata": {
    "colab": {
     "base_uri": "https://localhost:8080/"
    },
    "id": "oHCsW0IvqVCB",
    "outputId": "3c0c32dc-198e-4086-9ca2-f7dec5002e80"
   },
   "outputs": [
    {
     "data": {
      "text/plain": [
       "True"
      ]
     },
     "execution_count": 122,
     "metadata": {},
     "output_type": "execute_result"
    }
   ],
   "source": [
    "#now we have X_train_pooled_output, y_train\n",
    "#X_test_pooled_ouput, y_test\n",
    "\n",
    "#please use this grader to evaluate\n",
    "def greader_output():\n",
    "    assert(X_train_pooled_output.shape[1]==768)\n",
    "    assert(len(y_train)==len(X_train_pooled_output))\n",
    "    assert(X_test_pooled_output.shape[1]==768)\n",
    "    assert(len(y_test)==len(X_test_pooled_output))\n",
    "    assert(len(y_train.shape)==1)\n",
    "    assert(len(X_train_pooled_output.shape)==2)\n",
    "    assert(len(y_test.shape)==1)\n",
    "    assert(len(X_test_pooled_output.shape)==2)\n",
    "    return True\n",
    "greader_output()"
   ]
  },
  {
   "cell_type": "markdown",
   "metadata": {
    "id": "oYwS1QbAqVCD"
   },
   "source": [
    "<pre><font size=6>Part-5: Training a NN with 768 features</font>\n",
    "\n",
    "Create a NN and train the NN. \n",
    "1.<b> You have to use AUC as metric. Do not use tf.keras.metrics.AUC</b> \n",
    "<b> You have to write custom code for AUC and print it at the end of each epoch</b> \n",
    "2. You can use any architecture you want. \n",
    "3. You have to use tensorboard to log all your metrics and Losses. You have to send those logs. \n",
    "4. Print the loss and metric at every epoch. \n",
    "5. You have to submit without overfitting and underfitting. \n",
    "</pre>"
   ]
  },
  {
   "cell_type": "code",
   "execution_count": 126,
   "metadata": {
    "id": "od8PQlYRqVCE"
   },
   "outputs": [],
   "source": [
    "##imports\n",
    "from tensorflow.keras.layers import Input, Dense, Activation, Dropout, LSTM, Flatten\n",
    "from tensorflow.keras.initializers import HeNormal\n",
    "from tensorflow.keras.regularizers import L2\n",
    "from tensorflow.keras.optimizers import Adam\n",
    "from tensorflow.compat.v1.keras.layers import CuDNNLSTM\n",
    "from tensorflow.keras.models import Model"
   ]
  },
  {
   "cell_type": "code",
   "execution_count": 127,
   "metadata": {
    "id": "SPMqYKYyN0vv"
   },
   "outputs": [],
   "source": [
    "from sklearn.metrics import roc_auc_score\n",
    "def auc( y_true, y_pred ) :\n",
    "    score = tf.py_function( lambda y_true, y_pred : roc_auc_score( y_true, y_pred, average='macro', sample_weight=None).astype('float32'),\n",
    "                        [y_true, y_pred],\n",
    "                        'float32',\n",
    "                       name='sklearnAUC' )\n",
    "    return score"
   ]
  },
  {
   "cell_type": "code",
   "execution_count": 138,
   "metadata": {
    "colab": {
     "base_uri": "https://localhost:8080/"
    },
    "id": "oZDP9v6NOSoY",
    "outputId": "28e72866-4a88-4bc0-ac30-0a704c1bb271"
   },
   "outputs": [
    {
     "data": {
      "text/plain": [
       "(80000, 768)"
      ]
     },
     "execution_count": 138,
     "metadata": {},
     "output_type": "execute_result"
    }
   ],
   "source": [
    "X_train_pooled_output.shape"
   ]
  },
  {
   "cell_type": "code",
   "execution_count": 139,
   "metadata": {
    "colab": {
     "base_uri": "https://localhost:8080/"
    },
    "id": "JekT-omPUQk7",
    "outputId": "ed89c65b-7743-4cc5-9cba-c158b717cf72"
   },
   "outputs": [
    {
     "data": {
      "text/plain": [
       "(20000, 768)"
      ]
     },
     "execution_count": 139,
     "metadata": {},
     "output_type": "execute_result"
    }
   ],
   "source": [
    "X_test_pooled_output.shape"
   ]
  },
  {
   "cell_type": "code",
   "execution_count": 135,
   "metadata": {
    "colab": {
     "base_uri": "https://localhost:8080/"
    },
    "id": "FRlnehICTxXh",
    "outputId": "fdba42a3-505d-4f32-e05c-640746bd5bf2"
   },
   "outputs": [
    {
     "data": {
      "text/plain": [
       "(80000, 768, 1)"
      ]
     },
     "execution_count": 135,
     "metadata": {},
     "output_type": "execute_result"
    }
   ],
   "source": [
    "v = X_train_pooled_output.reshape(80000, 768, 1)\n",
    "v.shape"
   ]
  },
  {
   "cell_type": "code",
   "execution_count": 140,
   "metadata": {
    "id": "0_wspPwPULys"
   },
   "outputs": [],
   "source": [
    "w = X_test_pooled_output.reshape(20000, 768, 1)"
   ]
  },
  {
   "cell_type": "code",
   "execution_count": 144,
   "metadata": {
    "colab": {
     "base_uri": "https://localhost:8080/"
    },
    "id": "DSnmX3WnqVCG",
    "outputId": "92351296-8352-4dc5-b778-19aaf3827170"
   },
   "outputs": [
    {
     "name": "stdout",
     "output_type": "stream",
     "text": [
      "(None, 768, 64)\n",
      "(None, 49152)\n",
      "(None, 32)\n",
      "(None, 49152)\n",
      "Model: \"model\"\n",
      "_________________________________________________________________\n",
      " Layer (type)                Output Shape              Param #   \n",
      "=================================================================\n",
      " input_1 (InputLayer)        [(None, 768, 1)]          0         \n",
      "                                                                 \n",
      " cu_dnnlstm (CuDNNLSTM)      (None, 768, 64)           17152     \n",
      "                                                                 \n",
      " flatten (Flatten)           (None, 49152)             0         \n",
      "                                                                 \n",
      " dropout (Dropout)           (None, 49152)             0         \n",
      "                                                                 \n",
      " dense_1 (Dense)             (None, 2)                 98306     \n",
      "                                                                 \n",
      "=================================================================\n",
      "Total params: 115,458\n",
      "Trainable params: 115,458\n",
      "Non-trainable params: 0\n",
      "_________________________________________________________________\n",
      "None\n"
     ]
    }
   ],
   "source": [
    "##create an Neural Network and train your model on X_train_pooled_output and y_train\n",
    "# you can start as follows\n",
    "input_layer = Input(shape = (X_train_pooled_output.shape[1],1))\n",
    "lstm_layer = CuDNNLSTM(64, return_sequences = True)(input_layer)\n",
    "print(lstm_layer.get_shape())\n",
    "flat1 = Flatten()(lstm_layer)\n",
    "print(flat1.get_shape())\n",
    "dense = Dense(32,activation = 'relu', kernel_initializer = HeNormal(), kernel_regularizer = L2(0.0001))(flat1)\n",
    "print(dense.get_shape())\n",
    "dropout = Dropout(0.5)(flat1)\n",
    "print(dropout.get_shape())\n",
    "output = Dense(2, activation = 'softmax')(dropout)\n",
    "model = Model(input_layer, output)\n",
    "model.compile(loss = 'categorical_crossentropy', optimizer = Adam(learning_rate = 0.0006), metrics = [auc])\n",
    "\n",
    "print(model.summary())"
   ]
  },
  {
   "cell_type": "code",
   "execution_count": 141,
   "metadata": {
    "colab": {
     "base_uri": "https://localhost:8080/",
     "height": 466
    },
    "id": "Vm9kI7XoUErY",
    "outputId": "c84e5b98-3f52-4324-c4d4-72126ab179f6"
   },
   "outputs": [
    {
     "data": {
      "image/png": "[encoded data removed]",
      "text/plain": [
       "<IPython.core.display.Image object>"
      ]
     },
     "execution_count": 141,
     "metadata": {},
     "output_type": "execute_result"
    }
   ],
   "source": [
    "tf.keras.utils.plot_model(\n",
    "    model, to_file='model.png', show_shapes=False, show_layer_names=True, \n",
    "    rankdir='TB', expand_nested=False, dpi=96\n",
    ")"
   ]
  },
  {
   "cell_type": "code",
   "execution_count": 159,
   "metadata": {
    "id": "TV3jX9LpUmEv"
   },
   "outputs": [],
   "source": [
    "tf.keras.backend.clear_session()\n",
    "!rm -rf ./logs/"
   ]
  },
  {
   "cell_type": "code",
   "execution_count": 150,
   "metadata": {
    "id": "_5v-EXuNWEt8"
   },
   "outputs": [],
   "source": [
    "from sklearn.preprocessing import OneHotEncoder\n",
    "ohe = OneHotEncoder()\n",
    "target_train = ohe.fit_transform(y_train.values.reshape(-1,1)).toarray()\n",
    "target_test = ohe.transform(y_test.values.reshape(-1,1)).toarray()"
   ]
  },
  {
   "cell_type": "code",
   "execution_count": 152,
   "metadata": {
    "id": "A3qSehcLXLZB"
   },
   "outputs": [],
   "source": [
    "#to avoid the error: Creating variables on a non-first call to a function decorated with tf.function.\n",
    "#reference: https://stackoverflow.com/questions/58352326/running-the-tensorflow-2-0-code-gives-valueerror-tf-function-decorated-functio\n",
    "tf.config.run_functions_eagerly(True)"
   ]
  },
  {
   "cell_type": "code",
   "execution_count": 160,
   "metadata": {
    "colab": {
     "base_uri": "https://localhost:8080/"
    },
    "id": "3est6u_sUpit",
    "outputId": "2d162898-e76b-442a-d685-5218aa1afce9"
   },
   "outputs": [
    {
     "metadata": {
      "tags": null
     },
     "name": "stdout",
     "output_type": "stream",
     "text": [
      "Epoch 1/30\n"
     ]
    },
    {
     "metadata": {
      "tags": null
     },
     "name": "stderr",
     "output_type": "stream",
     "text": [
      "/usr/local/lib/python3.7/dist-packages/tensorflow/python/data/ops/structured_function.py:265: UserWarning: Even though the `tf.config.experimental_run_functions_eagerly` option is set, this option does not apply to tf.data functions. To force eager execution of tf.data functions, please use `tf.data.experimental.enable_debug_mode()`.\n",
      "  \"Even though the `tf.config.experimental_run_functions_eagerly` \"\n"
     ]
    },
    {
     "metadata": {
      "tags": null
     },
     "name": "stdout",
     "output_type": "stream",
     "text": [
      "1000/1000 [==============================] - ETA: 0s - loss: 0.1950 - auc: 0.9442"
     ]
    },
    {
     "metadata": {
      "tags": null
     },
     "name": "stderr",
     "output_type": "stream",
     "text": [
      "/usr/local/lib/python3.7/dist-packages/tensorflow/python/data/ops/structured_function.py:265: UserWarning: Even though the `tf.config.experimental_run_functions_eagerly` option is set, this option does not apply to tf.data functions. To force eager execution of tf.data functions, please use `tf.data.experimental.enable_debug_mode()`.\n",
      "  \"Even though the `tf.config.experimental_run_functions_eagerly` \"\n"
     ]
    },
    {
     "name": "stdout",
     "output_type": "stream",
     "text": [
      "\n",
      "Epoch 1: val_auc improved from -inf to 0.94731, saving model to weights_copy.best.hdf5\n",
      "1000/1000 [==============================] - 55s 55ms/step - loss: 0.1950 - auc: 0.9442 - val_loss: 0.1897 - val_auc: 0.9473\n",
      "Epoch 2/30\n",
      " 999/1000 [============================>.] - ETA: 0s - loss: 0.1934 - auc: 0.9435\n",
      "Epoch 2: val_auc improved from 0.94731 to 0.94841, saving model to weights_copy.best.hdf5\n",
      "1000/1000 [==============================] - 55s 55ms/step - loss: 0.1934 - auc: 0.9435 - val_loss: 0.1859 - val_auc: 0.9484\n",
      "Epoch 3/30\n",
      "1000/1000 [==============================] - ETA: 0s - loss: 0.1943 - auc: 0.9445\n",
      "Epoch 3: val_auc did not improve from 0.94841\n",
      "1000/1000 [==============================] - 55s 55ms/step - loss: 0.1943 - auc: 0.9445 - val_loss: 0.1814 - val_auc: 0.9478\n",
      "Epoch 4/30\n",
      " 999/1000 [============================>.] - ETA: 0s - loss: 0.1925 - auc: 0.9449\n",
      "Epoch 4: val_auc did not improve from 0.94841\n",
      "1000/1000 [==============================] - 55s 55ms/step - loss: 0.1926 - auc: 0.9449 - val_loss: 0.1940 - val_auc: 0.9478\n",
      "Epoch 5/30\n",
      " 999/1000 [============================>.] - ETA: 0s - loss: 0.1935 - auc: 0.9448\n",
      "Epoch 5: val_auc improved from 0.94841 to 0.94870, saving model to weights_copy.best.hdf5\n",
      "1000/1000 [==============================] - 54s 54ms/step - loss: 0.1936 - auc: 0.9448 - val_loss: 0.1815 - val_auc: 0.9487\n",
      "Epoch 6/30\n",
      " 999/1000 [============================>.] - ETA: 0s - loss: 0.1927 - auc: 0.9449\n",
      "Epoch 6: val_auc improved from 0.94870 to 0.94878, saving model to weights_copy.best.hdf5\n",
      "1000/1000 [==============================] - 54s 54ms/step - loss: 0.1927 - auc: 0.9449 - val_loss: 0.1793 - val_auc: 0.9488\n",
      "Epoch 7/30\n",
      " 999/1000 [============================>.] - ETA: 0s - loss: 0.1911 - auc: 0.9456\n",
      "Epoch 7: val_auc improved from 0.94878 to 0.94905, saving model to weights_copy.best.hdf5\n",
      "1000/1000 [==============================] - 54s 54ms/step - loss: 0.1910 - auc: 0.9457 - val_loss: 0.1788 - val_auc: 0.9491\n",
      "Epoch 8/30\n",
      "1000/1000 [==============================] - ETA: 0s - loss: 0.1904 - auc: 0.9455\n",
      "Epoch 8: val_auc did not improve from 0.94905\n",
      "1000/1000 [==============================] - 54s 54ms/step - loss: 0.1904 - auc: 0.9455 - val_loss: 0.1809 - val_auc: 0.9487\n",
      "Epoch 9/30\n",
      "1000/1000 [==============================] - ETA: 0s - loss: 0.1906 - auc: 0.9455\n",
      "Epoch 9: val_auc improved from 0.94905 to 0.94975, saving model to weights_copy.best.hdf5\n",
      "1000/1000 [==============================] - 55s 55ms/step - loss: 0.1906 - auc: 0.9455 - val_loss: 0.1800 - val_auc: 0.9498\n",
      "Epoch 10/30\n",
      "1000/1000 [==============================] - ETA: 0s - loss: 0.1920 - auc: 0.9466\n",
      "Epoch 10: val_auc did not improve from 0.94975\n",
      "1000/1000 [==============================] - 54s 54ms/step - loss: 0.1920 - auc: 0.9466 - val_loss: 0.1804 - val_auc: 0.9495\n",
      "Epoch 11/30\n",
      "1000/1000 [==============================] - ETA: 0s - loss: 0.1883 - auc: 0.9471\n",
      "Epoch 11: val_auc did not improve from 0.94975\n",
      "1000/1000 [==============================] - 54s 54ms/step - loss: 0.1883 - auc: 0.9471 - val_loss: 0.1920 - val_auc: 0.9494\n",
      "Epoch 12/30\n",
      " 999/1000 [============================>.] - ETA: 0s - loss: 0.1896 - auc: 0.9470\n",
      "Epoch 12: val_auc improved from 0.94975 to 0.95002, saving model to weights_copy.best.hdf5\n",
      "1000/1000 [==============================] - 54s 54ms/step - loss: 0.1896 - auc: 0.9470 - val_loss: 0.1774 - val_auc: 0.9500\n",
      "Epoch 13/30\n",
      "1000/1000 [==============================] - ETA: 0s - loss: 0.1886 - auc: 0.9476\n",
      "Epoch 13: val_auc did not improve from 0.95002\n",
      "1000/1000 [==============================] - 54s 54ms/step - loss: 0.1886 - auc: 0.9476 - val_loss: 0.1930 - val_auc: 0.9494\n",
      "Epoch 14/30\n",
      "1000/1000 [==============================] - ETA: 0s - loss: 0.1890 - auc: 0.9467\n",
      "Epoch 14: val_auc improved from 0.95002 to 0.95035, saving model to weights_copy.best.hdf5\n",
      "1000/1000 [==============================] - 55s 55ms/step - loss: 0.1890 - auc: 0.9467 - val_loss: 0.2236 - val_auc: 0.9504\n",
      "Epoch 15/30\n",
      " 999/1000 [============================>.] - ETA: 0s - loss: 0.1890 - auc: 0.9477\n",
      "Epoch 15: val_auc did not improve from 0.95035\n",
      "1000/1000 [==============================] - 54s 54ms/step - loss: 0.1891 - auc: 0.9477 - val_loss: 0.1764 - val_auc: 0.9502\n",
      "Epoch 16/30\n",
      "1000/1000 [==============================] - ETA: 0s - loss: 0.1879 - auc: 0.9476\n",
      "Epoch 16: val_auc improved from 0.95035 to 0.95039, saving model to weights_copy.best.hdf5\n",
      "1000/1000 [==============================] - 54s 54ms/step - loss: 0.1879 - auc: 0.9476 - val_loss: 0.1831 - val_auc: 0.9504\n",
      "Epoch 17/30\n",
      "1000/1000 [==============================] - ETA: 0s - loss: 0.1880 - auc: 0.9472\n",
      "Epoch 17: val_auc improved from 0.95039 to 0.95051, saving model to weights_copy.best.hdf5\n",
      "1000/1000 [==============================] - 55s 55ms/step - loss: 0.1880 - auc: 0.9472 - val_loss: 0.1761 - val_auc: 0.9505\n",
      "Epoch 18/30\n",
      " 999/1000 [============================>.] - ETA: 0s - loss: 0.1877 - auc: 0.9474\n",
      "Epoch 18: val_auc did not improve from 0.95051\n",
      "1000/1000 [==============================] - 54s 54ms/step - loss: 0.1877 - auc: 0.9474 - val_loss: 0.1857 - val_auc: 0.9498\n",
      "Epoch 19/30\n",
      " 999/1000 [============================>.] - ETA: 0s - loss: 0.1898 - auc: 0.9472\n",
      "Epoch 19: val_auc did not improve from 0.95051\n",
      "1000/1000 [==============================] - 54s 54ms/step - loss: 0.1899 - auc: 0.9471 - val_loss: 0.1812 - val_auc: 0.9493\n",
      "Epoch 20/30\n",
      "1000/1000 [==============================] - ETA: 0s - loss: 0.1874 - auc: 0.9477\n",
      "Epoch 20: val_auc did not improve from 0.95051\n",
      "1000/1000 [==============================] - 54s 54ms/step - loss: 0.1874 - auc: 0.9477 - val_loss: 0.1786 - val_auc: 0.9504\n",
      "Epoch 21/30\n",
      " 999/1000 [============================>.] - ETA: 0s - loss: 0.1883 - auc: 0.9474\n",
      "Epoch 21: val_auc did not improve from 0.95051\n",
      "1000/1000 [==============================] - 53s 53ms/step - loss: 0.1884 - auc: 0.9473 - val_loss: 0.1910 - val_auc: 0.9505\n",
      "Epoch 22/30\n",
      " 999/1000 [============================>.] - ETA: 0s - loss: 0.1857 - auc: 0.9481\n",
      "Epoch 22: val_auc did not improve from 0.95051\n",
      "1000/1000 [==============================] - 54s 54ms/step - loss: 0.1857 - auc: 0.9481 - val_loss: 0.1769 - val_auc: 0.9505\n",
      "Epoch 23/30\n",
      " 999/1000 [============================>.] - ETA: 0s - loss: 0.1867 - auc: 0.9481\n",
      "Epoch 23: val_auc improved from 0.95051 to 0.95092, saving model to weights_copy.best.hdf5\n",
      "1000/1000 [==============================] - 54s 54ms/step - loss: 0.1867 - auc: 0.9481 - val_loss: 0.1763 - val_auc: 0.9509\n",
      "Epoch 24/30\n",
      "1000/1000 [==============================] - ETA: 0s - loss: 0.1860 - auc: 0.9483\n",
      "Epoch 24: val_auc improved from 0.95092 to 0.95114, saving model to weights_copy.best.hdf5\n",
      "1000/1000 [==============================] - 54s 54ms/step - loss: 0.1860 - auc: 0.9483 - val_loss: 0.1749 - val_auc: 0.9511\n",
      "Epoch 25/30\n",
      "1000/1000 [==============================] - ETA: 0s - loss: 0.1865 - auc: 0.9481\n",
      "Epoch 25: val_auc improved from 0.95114 to 0.95120, saving model to weights_copy.best.hdf5\n",
      "1000/1000 [==============================] - 54s 54ms/step - loss: 0.1865 - auc: 0.9481 - val_loss: 0.1772 - val_auc: 0.9512\n",
      "Epoch 26/30\n",
      "1000/1000 [==============================] - ETA: 0s - loss: 0.1858 - auc: 0.9485\n",
      "Epoch 26: val_auc did not improve from 0.95120\n",
      "1000/1000 [==============================] - 54s 54ms/step - loss: 0.1858 - auc: 0.9485 - val_loss: 0.1782 - val_auc: 0.9509\n",
      "Epoch 27/30\n",
      "1000/1000 [==============================] - ETA: 0s - loss: 0.1847 - auc: 0.9491\n",
      "Epoch 27: val_auc did not improve from 0.95120\n",
      "1000/1000 [==============================] - 53s 53ms/step - loss: 0.1847 - auc: 0.9491 - val_loss: 0.1822 - val_auc: 0.9512\n",
      "Epoch 28/30\n",
      " 999/1000 [============================>.] - ETA: 0s - loss: 0.1857 - auc: 0.9484\n",
      "Epoch 28: val_auc improved from 0.95120 to 0.95167, saving model to weights_copy.best.hdf5\n",
      "1000/1000 [==============================] - 52s 52ms/step - loss: 0.1857 - auc: 0.9484 - val_loss: 0.1809 - val_auc: 0.9517\n",
      "Epoch 29/30\n",
      " 999/1000 [============================>.] - ETA: 0s - loss: 0.1859 - auc: 0.9488\n",
      "Epoch 29: val_auc did not improve from 0.95167\n",
      "1000/1000 [==============================] - 53s 53ms/step - loss: 0.1858 - auc: 0.9488 - val_loss: 0.1820 - val_auc: 0.9514\n",
      "Epoch 30/30\n",
      " 999/1000 [============================>.] - ETA: 0s - loss: 0.1852 - auc: 0.9482\n",
      "Epoch 30: val_auc did not improve from 0.95167\n",
      "1000/1000 [==============================] - 54s 54ms/step - loss: 0.1852 - auc: 0.9483 - val_loss: 0.1754 - val_auc: 0.9510\n"
     ]
    },
    {
     "data": {
      "text/plain": [
       "<keras.callbacks.History at 0x7f949c135350>"
      ]
     },
     "execution_count": 160,
     "metadata": {},
     "output_type": "execute_result"
    }
   ],
   "source": [
    "#%load_ext tensorboard\n",
    "#import datetime, os\n",
    "#from tensorflow.keras.callbacks import ModelCheckpoint\n",
    "filepath=\"weights_copy.best.hdf5\"\n",
    "checkpoint = ModelCheckpoint(filepath, monitor='val_auc', verbose=1, save_best_only = True, mode='max')\n",
    "log_dir = os.path.join(\"logs\",'fits', datetime.datetime.now().strftime(\"%Y%m%d-%H%M%S\"))\n",
    "#tensorboard_callback = tf.keras.callbacks.TensorBoard(log_dir=log_dir,histogram_freq=1)\n",
    "model.fit(x = v, y = target_train, validation_data = (w, target_test), epochs = 30, batch_size = 80,\n",
    "          callbacks = [checkpoint]) #, tensorboard_callback])"
   ]
  },
  {
   "cell_type": "markdown",
   "metadata": {
    "id": "3TU-k_ezaBpG"
   },
   "source": [
    "Tried creating tensorboard graphs but got  - 'Function' object has no attribute '_concrete_stateful_fn'. I was unable to debug the error, I couldn't find any solution on the internet as well."
   ]
  },
  {
   "cell_type": "code",
   "execution_count": 163,
   "metadata": {
    "id": "W02m4g-Ckzwg"
   },
   "outputs": [],
   "source": [
    "model.save('best_model.hdf5')"
   ]
  },
  {
   "cell_type": "markdown",
   "metadata": {
    "id": "kcILeYZI9pxm"
   },
   "source": [
    "<Pre><font size=6>Part-6: Creating a Data pipeline for BERT Model</font> \n",
    "1. Pipeline is a way to codify and automate the workflow.\n",
    "2. Download the test.csv file from here <a href=\"https://drive.google.com/file/d/1QwjqTsqTX2vdy7fTmeXjxP3dq8IAVLpo/view?usp=sharing\">here</a> </pre>\n"
   ]
  },
  {
   "cell_type": "code",
   "execution_count": null,
   "metadata": {
    "id": "_74n3sgFjvlM"
   },
   "outputs": [],
   "source": [
    "#there is an alterante way to load files from Google drive directly to your Colab session\n",
    "# you can use gdown module to import the files as follows\n",
    "#for example for test.csv you can write your code as !gdown --id file_id (remove the # from next line and run it)"
   ]
  },
  {
   "cell_type": "code",
   "execution_count": 161,
   "metadata": {
    "colab": {
     "base_uri": "https://localhost:8080/"
    },
    "id": "kwv_BIV9xWt7",
    "outputId": "727d9a9b-fe20-4197-e728-9716c7566d78"
   },
   "outputs": [
    {
     "name": "stdout",
     "output_type": "stream",
     "text": [
      "/usr/local/lib/python3.7/dist-packages/gdown/cli.py:131: FutureWarning: Option `--id` was deprecated in version 4.3.1 and will be removed in 5.0. You don't need to pass it anymore to use a file ID.\n",
      "  category=FutureWarning,\n",
      "Downloading...\n",
      "From: https://drive.google.com/uc?id=1QwjqTsqTX2vdy7fTmeXjxP3dq8IAVLpo\n",
      "To: /content/test.csv\n",
      "100% 62.1k/62.1k [00:00<00:00, 66.9MB/s]\n"
     ]
    }
   ],
   "source": [
    "!gdown --id 1QwjqTsqTX2vdy7fTmeXjxP3dq8IAVLpo"
   ]
  },
  {
   "cell_type": "code",
   "execution_count": 172,
   "metadata": {
    "id": "lQcoHbUKjgvF"
   },
   "outputs": [],
   "source": [
    "#read the csv file\n",
    "test_df = pd.read_csv('test.csv', encoding = 'utf-8')"
   ]
  },
  {
   "cell_type": "code",
   "execution_count": 173,
   "metadata": {
    "colab": {
     "base_uri": "https://localhost:8080/",
     "height": 206
    },
    "id": "W1Pj4VNVmEab",
    "outputId": "04e12dac-ed4f-4943-cdaa-85635ae9fc77"
   },
   "outputs": [
    {
     "data": {
      "text/html": [
       "\n",
       "  <div id=\"df-2a1690a2-2f9b-416a-9b17-8bf6c225f139\">\n",
       "    <div class=\"colab-df-container\">\n",
       "      <div>\n",
       "<style scoped>\n",
       "    .dataframe tbody tr th:only-of-type {\n",
       "        vertical-align: middle;\n",
       "    }\n",
       "\n",
       "    .dataframe tbody tr th {\n",
       "        vertical-align: top;\n",
       "    }\n",
       "\n",
       "    .dataframe thead th {\n",
       "        text-align: right;\n",
       "    }\n",
       "</style>\n",
       "<table border=\"1\" class=\"dataframe\">\n",
       "  <thead>\n",
       "    <tr style=\"text-align: right;\">\n",
       "      <th></th>\n",
       "      <th>Text</th>\n",
       "    </tr>\n",
       "  </thead>\n",
       "  <tbody>\n",
       "    <tr>\n",
       "      <th>0</th>\n",
       "      <td>Just opened Greenies Joint Care (individually ...</td>\n",
       "    </tr>\n",
       "    <tr>\n",
       "      <th>1</th>\n",
       "      <td>This product rocks :) My mom was very happy w/...</td>\n",
       "    </tr>\n",
       "    <tr>\n",
       "      <th>2</th>\n",
       "      <td>The product was fine, but the cost of shipping...</td>\n",
       "    </tr>\n",
       "    <tr>\n",
       "      <th>3</th>\n",
       "      <td>I love this soup. It's great as part of a meal...</td>\n",
       "    </tr>\n",
       "    <tr>\n",
       "      <th>4</th>\n",
       "      <td>Getting ready to order again. These are great ...</td>\n",
       "    </tr>\n",
       "  </tbody>\n",
       "</table>\n",
       "</div>\n",
       "      <button class=\"colab-df-convert\" onclick=\"convertToInteractive('df-2a1690a2-2f9b-416a-9b17-8bf6c225f139')\"\n",
       "              title=\"Convert this dataframe to an interactive table.\"\n",
       "              style=\"display:none;\">\n",
       "        \n",
       "  <svg xmlns=\"http://www.w3.org/2000/svg\" height=\"24px\"viewBox=\"0 0 24 24\"\n",
       "       width=\"24px\">\n",
       "    <path d=\"M0 0h24v24H0V0z\" fill=\"none\"/>\n",
       "    <path d=\"M18.56 5.44l.94 2.06.94-2.06 2.06-.94-2.06-.94-.94-2.06-.94 2.06-2.06.94zm-11 1L8.5 8.5l.94-2.06 2.06-.94-2.06-.94L8.5 2.5l-.94 2.06-2.06.94zm10 10l.94 2.06.94-2.06 2.06-.94-2.06-.94-.94-2.06-.94 2.06-2.06.94z\"/><path d=\"M17.41 7.96l-1.37-1.37c-.4-.4-.92-.59-1.43-.59-.52 0-1.04.2-1.43.59L10.3 9.45l-7.72 7.72c-.78.78-.78 2.05 0 2.83L4 21.41c.39.39.9.59 1.41.59.51 0 1.02-.2 1.41-.59l7.78-7.78 2.81-2.81c.8-.78.8-2.07 0-2.86zM5.41 20L4 18.59l7.72-7.72 1.47 1.35L5.41 20z\"/>\n",
       "  </svg>\n",
       "      </button>\n",
       "      \n",
       "  <style>\n",
       "    .colab-df-container {\n",
       "      display:flex;\n",
       "      flex-wrap:wrap;\n",
       "      gap: 12px;\n",
       "    }\n",
       "\n",
       "    .colab-df-convert {\n",
       "      background-color: #E8F0FE;\n",
       "      border: none;\n",
       "      border-radius: 50%;\n",
       "      cursor: pointer;\n",
       "      display: none;\n",
       "      fill: #1967D2;\n",
       "      height: 32px;\n",
       "      padding: 0 0 0 0;\n",
       "      width: 32px;\n",
       "    }\n",
       "\n",
       "    .colab-df-convert:hover {\n",
       "      background-color: #E2EBFA;\n",
       "      box-shadow: 0px 1px 2px rgba(60, 64, 67, 0.3), 0px 1px 3px 1px rgba(60, 64, 67, 0.15);\n",
       "      fill: #174EA6;\n",
       "    }\n",
       "\n",
       "    [theme=dark] .colab-df-convert {\n",
       "      background-color: #3B4455;\n",
       "      fill: #D2E3FC;\n",
       "    }\n",
       "\n",
       "    [theme=dark] .colab-df-convert:hover {\n",
       "      background-color: #434B5C;\n",
       "      box-shadow: 0px 1px 3px 1px rgba(0, 0, 0, 0.15);\n",
       "      filter: drop-shadow(0px 1px 2px rgba(0, 0, 0, 0.3));\n",
       "      fill: #FFFFFF;\n",
       "    }\n",
       "  </style>\n",
       "\n",
       "      <script>\n",
       "        const buttonEl =\n",
       "          document.querySelector('#df-2a1690a2-2f9b-416a-9b17-8bf6c225f139 button.colab-df-convert');\n",
       "        buttonEl.style.display =\n",
       "          google.colab.kernel.accessAllowed ? 'block' : 'none';\n",
       "\n",
       "        async function convertToInteractive(key) {\n",
       "          const element = document.querySelector('#df-2a1690a2-2f9b-416a-9b17-8bf6c225f139');\n",
       "          const dataTable =\n",
       "            await google.colab.kernel.invokeFunction('convertToInteractive',\n",
       "                                                     [key], {});\n",
       "          if (!dataTable) return;\n",
       "\n",
       "          const docLinkHtml = 'Like what you see? Visit the ' +\n",
       "            '<a target=\"_blank\" href=https://colab.research.google.com/notebooks/data_table.ipynb>data table notebook</a>'\n",
       "            + ' to learn more about interactive tables.';\n",
       "          element.innerHTML = '';\n",
       "          dataTable['output_type'] = 'display_data';\n",
       "          await google.colab.output.renderOutput(dataTable, element);\n",
       "          const docLink = document.createElement('div');\n",
       "          docLink.innerHTML = docLinkHtml;\n",
       "          element.appendChild(docLink);\n",
       "        }\n",
       "      </script>\n",
       "    </div>\n",
       "  </div>\n",
       "  "
      ],
      "text/plain": [
       "                                                Text\n",
       "0  Just opened Greenies Joint Care (individually ...\n",
       "1  This product rocks :) My mom was very happy w/...\n",
       "2  The product was fine, but the cost of shipping...\n",
       "3  I love this soup. It's great as part of a meal...\n",
       "4  Getting ready to order again. These are great ..."
      ]
     },
     "execution_count": 173,
     "metadata": {},
     "output_type": "execute_result"
    }
   ],
   "source": [
    "test_df.head()"
   ]
  },
  {
   "cell_type": "markdown",
   "metadata": {
    "id": "-zii6hgejdhQ"
   },
   "source": [
    "<Pre>1. You have to write a function that takes the test_df,trained model and the required parameters as input. \n",
    "2. Perform all the preproceesing steps inside the function.\n",
    "- Remove all the html tags\n",
    "- Now do tokenization [Part 3 as mentioned above]\n",
    "- Create tokens,mask array and segment array\n",
    "- Get Embeddings from BERT Model [Part 4 as mentioned above] , let it be X_test\n",
    "- Print the shape of output(X_test.shape).You should get (352,768)\n",
    "3. Predit the output of X_test with the neural network model which we trained earlier.\n",
    "\n",
    "4. Return the occurences of class labels from the function.\n",
    "The output should be the count of datapoints classified as 1 or 0.\n",
    "\n",
    "</pre>"
   ]
  },
  {
   "cell_type": "code",
   "execution_count": 196,
   "metadata": {
    "id": "g9g6C_kgjcan"
   },
   "outputs": [],
   "source": [
    "def remove_html(x):\n",
    "  return re.sub(\"<.*?>\", '', x)\n",
    "\n",
    "def pipeline(X_test, filepath):\n",
    "  '''\n",
    "  Function takes test datapoints and the filepath where the weights of the optimal model are stored.\n",
    "  Returns the no. of datapoints belonging to each class as predictions of the test datapoints.\n",
    "  '''\n",
    "  \n",
    "  #removing html tags from the data\n",
    "  X_test['Text'] = X_test['Text'].apply(remove_html)\n",
    "\n",
    "  #creating tokens, mask and segment for test data\n",
    "  test_tokens = []\n",
    "  test_mask = []\n",
    "  test_segment = []\n",
    "  for text in X_test.values:\n",
    "    tokens = tokenizer.tokenize(text[0])\n",
    "    if len(tokens) > (max_seq_length-2):\n",
    "      tokens = tokens[0:(max_seq_length-2)]\n",
    "    tokens = ['[CLS]', *tokens, '[SEP]']\n",
    "    token_length = len(tokens)\n",
    "    if len(tokens) < max_seq_length:\n",
    "      pad = [\"[PAD]\"]\n",
    "      tokens.extend(pad*(max_seq_length - len(tokens)))\n",
    "    tokens = np.array(tokens)\n",
    "    mask = np.array([1]*token_length+ [0]*(max_seq_length - token_length))\n",
    "    segment = np.array([0]*max_seq_length)\n",
    "    test_tokens.append(np.array(tokenizer.convert_tokens_to_ids(tokens)))\n",
    "    test_mask.append(mask)\n",
    "    test_segment.append(segment)\n",
    "\n",
    "  X_test_tokens = np.array(test_tokens)\n",
    "  X_test_mask = np.array(test_mask)\n",
    "  X_test_segment = np.array(test_segment)\n",
    "\n",
    "  #getting BERT embeddings for test data\n",
    "  X_test_pooled = bert_model.predict([X_test_tokens,X_test_mask,X_test_segment])\n",
    "  \n",
    "  #printing the shape of the embeddings obtained\n",
    "  print(X_test_pooled.shape)\n",
    "\n",
    "  #reshaping X_test_pooled for CuDNNLSTM - as it needs 3dim input\n",
    "  org_shape = X_test_pooled.shape\n",
    "  X_test_pooled = X_test_pooled.reshape(org_shape[0], org_shape[1], 1)\n",
    "\n",
    "  #model architecture\n",
    "  input_layer = Input(shape = (X_train_pooled_output.shape[1],1))\n",
    "  lstm_layer = CuDNNLSTM(64, return_sequences = True)(input_layer)\n",
    "  flat1 = Flatten()(lstm_layer)\n",
    "  dense = Dense(32,activation = 'relu', kernel_initializer = HeNormal(), kernel_regularizer = L2(0.0001))(flat1)\n",
    "  dropout = Dropout(0.5)(flat1)\n",
    "  output = Dense(2, activation = 'softmax')(dropout)\n",
    "  model = Model(input_layer, output)\n",
    "  #loading the weights of the best model we got\n",
    "  model.load_weights(filepath)\n",
    "  model.compile(loss = 'categorical_crossentropy', optimizer = Adam(learning_rate = 0.0006), metrics = [auc])\n",
    "\n",
    "  preds = model.predict(X_test_pooled)\n",
    "  y_pred = preds[:,1]\n",
    "  print(\"No. of datapoints classified as belonging to class 0: \",sum(y_pred<0.5))\n",
    "  print(\"No. of datapoints classified as belonging to class 1: \",sum(y_pred>=0.5))\n",
    "\n",
    "  return (sum(y_pred<0.5), sum(y_pred>=0.5))\n",
    "  \n",
    "  "
   ]
  },
  {
   "cell_type": "code",
   "execution_count": 197,
   "metadata": {
    "colab": {
     "base_uri": "https://localhost:8080/"
    },
    "id": "GBuaH8inpQDw",
    "outputId": "39e20da6-288e-4f98-af0a-1f41e6990a69"
   },
   "outputs": [
    {
     "name": "stderr",
     "output_type": "stream",
     "text": [
      "/usr/local/lib/python3.7/dist-packages/tensorflow/python/data/ops/structured_function.py:265: UserWarning: Even though the `tf.config.experimental_run_functions_eagerly` option is set, this option does not apply to tf.data functions. To force eager execution of tf.data functions, please use `tf.data.experimental.enable_debug_mode()`.\n",
      "  \"Even though the `tf.config.experimental_run_functions_eagerly` \"\n"
     ]
    },
    {
     "name": "stdout",
     "output_type": "stream",
     "text": [
      "(352, 768)\n",
      "No. of datapoints classified as belonging to class 0:  30\n",
      "No. of datapoints classified as belonging to class 1:  322\n"
     ]
    }
   ],
   "source": [
    "no_of_0, no_of_1 = pipeline(test_df, filepath)"
   ]
  },
  {
   "cell_type": "markdown",
   "metadata": {
    "id": "pZc7XTQOxcIO"
   },
   "source": [
    "## Please write your observations at the end of notebook and  explain each and every step you followed in solving this assignment."
   ]
  },
  {
   "cell_type": "code",
   "execution_count": 207,
   "metadata": {
    "colab": {
     "base_uri": "https://localhost:8080/"
    },
    "id": "OnaRBRuMtdjW",
    "outputId": "17454a4a-57ca-40a1-cf1d-f3edf2197da0"
   },
   "outputs": [
    {
     "name": "stdout",
     "output_type": "stream",
     "text": [
      "+-------------------------------+-----------+--------+-----------+----------------+\n",
      "|            Features           |   Model   | Epochs | Train AUC | Validation AUC |\n",
      "+-------------------------------+-----------+--------+-----------+----------------+\n",
      "| BERT embeddings for text data | CuDNNLSTM |   28   |   0.9484  |     0.9516     |\n",
      "+-------------------------------+-----------+--------+-----------+----------------+\n"
     ]
    }
   ],
   "source": [
    "from prettytable import PrettyTable\n",
    "\n",
    "\n",
    "x = PrettyTable()\n",
    "x.field_names = [\"Features\", \"Model\", \"Epochs\", \"Train AUC\", \"Validation AUC\"]\n",
    "x.add_row([\"BERT embeddings for text data\", \"CuDNNLSTM\", 28, 0.9484, 0.9516])\n",
    "\n",
    "print(x)"
   ]
  },
  {
   "cell_type": "markdown",
   "metadata": {
    "id": "xBEck1AIuWSD"
   },
   "source": [
    "Observations:\n",
    "\n",
    "1. The difference between train AUC and validation AUC is low. Therefore, there is no overfit/ underfit.\n",
    "\n",
    "2. The use of BERT embeddings enabled us to achieve a good AUC of over 95% in very less epochs even using a simple model with very less no. of trainable parameters in the order of 100,000.\n",
    "\n",
    "3. LSTM is good with capturing patterns. BERT embeddings + a simple LSTM model like the one used here can achieve good results with low computational resuorces in less training time. Hence, NLP with transfer learning is an effective approach. \n",
    "\n"
   ]
  }
 ],
 "metadata": {
  "accelerator": "GPU",
  "colab": {
   "collapsed_sections": [],
   "machine_shape": "hm",
   "provenance": []
  },
  "kernelspec": {
   "display_name": "Python 3 (ipykernel)",
   "language": "python",
   "name": "python3"
  },
  "language_info": {
   "codemirror_mode": {
    "name": "ipython",
    "version": 3
   },
   "file_extension": ".py",
   "mimetype": "text/x-python",
   "name": "python",
   "nbconvert_exporter": "python",
   "pygments_lexer": "ipython3",
   "version": "3.9.12"
  }
 },
 "nbformat": 4,
 "nbformat_minor": 1
}
